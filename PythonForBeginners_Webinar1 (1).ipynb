{
  "cells": [
    {
      "cell_type": "markdown",
      "id": "3b69debd",
      "metadata": {
        "id": "3b69debd"
      },
      "source": [
        "\n",
        "# Introduction to Python Programming\n",
        "\n",
        "Python is a popular, interpreted, high-level programming language known for its simplicity and readability. It's widely used in various fields, from web development to data science. This notebook introduces some fundamental concepts in Python, including variables, expressions, statements, `input()`, `print()`, and data types.\n",
        "\n",
        "Let's start by understanding what variables are in Python.\n"
      ]
    },
    {
      "cell_type": "markdown",
      "id": "98562da8",
      "metadata": {
        "id": "98562da8"
      },
      "source": [
        "\n",
        "## Variables in Python\n",
        "\n",
        "- A variable is a **named item** that stores data (e.g., numbers, letters, etc)\n",
        "\n",
        "- (They are implemented as memory locations)\n",
        "- The data stored by a variable is called its value\n",
        "- Its value can be changed\n"
      ]
    },
    {
      "cell_type": "code",
      "execution_count": 16,
      "id": "128804f5",
      "metadata": {
        "colab": {
          "base_uri": "https://localhost:8080/"
        },
        "id": "128804f5",
        "outputId": "4b8bba2a-18a3-48df-b5ca-fc01bcca4c10"
      },
      "outputs": [
        {
          "name": "stdout",
          "output_type": "stream",
          "text": [
            "Alice 30\n"
          ]
        }
      ],
      "source": [
        "# Example: Creating Variables\n",
        "# Here's another example comment\n",
        "# add many more notes\n",
        "name = \"Alice\"\n",
        "age = 30\n",
        "print(name, age)"
      ]
    },
    {
      "cell_type": "markdown",
      "id": "e07c9d0f",
      "metadata": {
        "id": "e07c9d0f"
      },
      "source": [
        "\n",
        "### Rules for Variable Names in Python\n",
        "\n",
        "When creating variables in Python, there are certain rules and conventions that must be followed:\n",
        "\n",
        "1. **Names can only contain letters, numbers, and underscores.** Variable names can start with a letter or an underscore, but not with a number.\n",
        "2. **Spaces are not allowed in variable names.** Use underscores to separate words in variable names (e.g., `my_variable`).\n",
        "3. **Avoid using Python keywords and function names as variable names.** For example, don't use words like `print`, `int`, `if`, `while`, or `for` as variable names.\n",
        "4. **Variable names should be descriptive** to make the code more readable (e.g., `username` instead of `u`).\n",
        "5. **Case sensitivity:** Variable names are case-sensitive in Python, meaning that `Variable`, `VARIABLE`, and `variable` are three different variables.\n"
      ]
    },
    {
      "cell_type": "code",
      "execution_count": 21,
      "id": "xObgJx11ZF00",
      "metadata": {
        "colab": {
          "base_uri": "https://localhost:8080/",
          "height": 141
        },
        "id": "xObgJx11ZF00",
        "outputId": "1dd58d77-e84c-419c-fa7d-50221c73a1c5"
      },
      "outputs": [
        {
          "ename": "SyntaxError",
          "evalue": "ignored",
          "output_type": "error",
          "traceback": [
            "\u001b[0;36m  File \u001b[0;32m\"<ipython-input-21-150a70c7eac0>\"\u001b[0;36m, line \u001b[0;32m1\u001b[0m\n\u001b[0;31m    123_name123 = 'Bob'\u001b[0m\n\u001b[0m       ^\u001b[0m\n\u001b[0;31mSyntaxError\u001b[0m\u001b[0;31m:\u001b[0m invalid decimal literal\n"
          ]
        }
      ],
      "source": [
        "# Don't do this please! A variable name can only start with a letter or _\n",
        "123_name123 = 'Bob'\n",
        "print(123_name123)"
      ]
    },
    {
      "cell_type": "code",
      "execution_count": 23,
      "id": "1382e4f0",
      "metadata": {
        "id": "1382e4f0"
      },
      "outputs": [],
      "source": [
        "# Valid Variable Names\n",
        "name = \"Alice\"\n",
        "_age = 23\n",
        "user2name = \"Bob\"\n",
        "\n",
        "# Invalid Variable Names\n",
        "# 2name = \"Charlie\"  # Starts with a number\n",
        "# user-name = \"Dave\" # Contains a hyphen\n"
      ]
    },
    {
      "cell_type": "markdown",
      "id": "b4f22d2c",
      "metadata": {
        "id": "b4f22d2c"
      },
      "source": [
        "\n",
        "## Expressions and Statements\n",
        "\n",
        "An expression is a combination of values, variables, and operators.\n",
        "\n",
        "A statement, on the other hand, is an instruction that the Python interpreter can execute. Let's see some examples:\n"
      ]
    },
    {
      "cell_type": "code",
      "execution_count": null,
      "id": "33925dbd",
      "metadata": {
        "id": "33925dbd"
      },
      "outputs": [],
      "source": [
        "# Example: Expressions and Statements\n",
        "sum = 10 + 15  # This is an expression\n",
        "print(sum)     # This is a statement\n"
      ]
    },
    {
      "cell_type": "code",
      "execution_count": 26,
      "id": "oYArrTbnaNRg",
      "metadata": {
        "colab": {
          "base_uri": "https://localhost:8080/"
        },
        "id": "oYArrTbnaNRg",
        "outputId": "cf4b0a55-5756-43f2-b7cd-c1ee1da8eba6"
      },
      "outputs": [
        {
          "name": "stdout",
          "output_type": "stream",
          "text": [
            "1.5\n"
          ]
        }
      ],
      "source": [
        "result = 15 / 10\n",
        "print(result)"
      ]
    },
    {
      "cell_type": "markdown",
      "id": "58e8ca0e",
      "metadata": {
        "id": "58e8ca0e"
      },
      "source": [
        "\n",
        "## Using `input()` and `print()` Functions\n",
        "\n",
        "The `input()` function allows the user to take input from the keyboard as a string.\n",
        "\n",
        "The `print()` function prints the specified message to the screen.\n"
      ]
    },
    {
      "cell_type": "code",
      "execution_count": 30,
      "id": "2b73c163",
      "metadata": {
        "colab": {
          "base_uri": "https://localhost:8080/"
        },
        "id": "2b73c163",
        "outputId": "ea4630b1-1749-4bc4-9579-ae7cf0d70bba"
      },
      "outputs": [
        {
          "name": "stdout",
          "output_type": "stream",
          "text": [
            "Enter your name: Dana\n",
            "Dana\n"
          ]
        }
      ],
      "source": [
        "# Example: Using input() and print()\n",
        "user_name = input(\"Enter your name: \")\n",
        "# do other processing\n",
        "print(user_name) # printing multiple values, each separated by a comma\n",
        "# The output will separate items with a whitepsace\n"
      ]
    },
    {
      "cell_type": "markdown",
      "id": "227e51f2",
      "metadata": {
        "id": "227e51f2"
      },
      "source": [
        "\n",
        "### Printing Multiple Items Using `print()`\n",
        "\n",
        "You can pass several values separated by commas to `print`, and Python will automatically convert them to strings (if they are not already strings) and join them with a space:\n"
      ]
    },
    {
      "cell_type": "code",
      "execution_count": 31,
      "id": "d93adff8",
      "metadata": {
        "colab": {
          "base_uri": "https://localhost:8080/"
        },
        "id": "d93adff8",
        "outputId": "9a3b5e31-46e9-43cb-bfad-70fab31095f6"
      },
      "outputs": [
        {
          "name": "stdout",
          "output_type": "stream",
          "text": [
            "Name: Alice - Age: 30\n"
          ]
        }
      ],
      "source": [
        "# Example: Printing Multiple Items\n",
        "name = \"Alice\"\n",
        "age = 30\n",
        "print(\"Name:\", name, \"- Age:\", age)\n"
      ]
    },
    {
      "cell_type": "markdown",
      "id": "cea8007a",
      "metadata": {
        "id": "cea8007a"
      },
      "source": [
        "\n",
        "## Basic Data Types in Python: int, float, and string\n",
        "\n",
        "Python has various data types including integers (`int`), floating point numbers (`float`), and strings (`str`). Here's a brief overview:\n",
        "- **int**: Represents integer values (e.g., 10, -3), counted quantities\n",
        "- **float**: Represents real numbers (e.g., 3.14, -0.001), measured quantities\n",
        "- **string**: Represents sequences of characters (e.g., \"Hello\", \"123\")\n",
        "    - A string in Python can be created by enclosing characters in quotes (single `'123'`, double `\"Python\"`, or triple quotes `'''another string'''`).\n",
        "\n",
        "\n",
        "Let's see some examples:\n"
      ]
    },
    {
      "cell_type": "code",
      "execution_count": 2,
      "id": "0b06e5af",
      "metadata": {
        "colab": {
          "base_uri": "https://localhost:8080/"
        },
        "id": "0b06e5af",
        "outputId": "59ee9af5-b329-4fe4-c92f-89dee837a1a2"
      },
      "outputs": [
        {
          "name": "stdout",
          "output_type": "stream",
          "text": [
            "<class 'int'> <class 'float'> <class 'str'>\n"
          ]
        }
      ],
      "source": [
        "# Example: Data Types\n",
        "# Integer\n",
        "number_of_items = 5\n",
        "\n",
        "# Float\n",
        "temperature = 98.6\n",
        "\n",
        "# String\n",
        "greeting_message = 'Hello, Python!'\n",
        "\n",
        "# Use type() to determine the type of a variable (its value)\n",
        "print(type(number_of_items), type(temperature), type(greeting_message))\n"
      ]
    },
    {
      "cell_type": "markdown",
      "id": "ef437bd5",
      "metadata": {
        "id": "ef437bd5"
      },
      "source": [
        "\n",
        "## Formatting Strings with f-strings\n",
        "\n",
        "Introduced in Python 3.6, f-strings offer a concise and readable way to embed expressions inside string literals, using curly braces `{}`. The expressions are evaluated at runtime and then formatted using the `format()` method. Here's how you can use f-strings:\n"
      ]
    },
    {
      "cell_type": "code",
      "execution_count": 32,
      "id": "436a2ea2",
      "metadata": {
        "colab": {
          "base_uri": "https://localhost:8080/"
        },
        "id": "436a2ea2",
        "outputId": "f3011a2e-dbd0-447d-d5d1-c254877bc1d3"
      },
      "outputs": [
        {
          "name": "stdout",
          "output_type": "stream",
          "text": [
            "Name: Bob - Age: 25\n"
          ]
        }
      ],
      "source": [
        "# Example: Using f-strings for Formatting\n",
        "name = \"Bob\"\n",
        "age = 25\n",
        "print(f\"Name: {name} - Age: {age}\")\n",
        "# print(\"Name:\", name, \"- Age:\", age)\n",
        "\n"
      ]
    },
    {
      "cell_type": "code",
      "execution_count": 36,
      "id": "Pawi7KjRdGCS",
      "metadata": {
        "colab": {
          "base_uri": "https://localhost:8080/"
        },
        "id": "Pawi7KjRdGCS",
        "outputId": "11a3c6c5-1403-4196-d6c7-a3c4880e8b6c"
      },
      "outputs": [
        {
          "name": "stdout",
          "output_type": "stream",
          "text": [
            "Name: Bob\n",
            "Name: Bob - Age: 25\n"
          ]
        }
      ],
      "source": [
        "name = 'Bob'\n",
        "age = 25\n",
        "print('Name:', name)\n",
        "print(f'Name: {name} - Age: {age}')"
      ]
    },
    {
      "cell_type": "code",
      "execution_count": 6,
      "id": "FJCu4lMePraX",
      "metadata": {
        "colab": {
          "base_uri": "https://localhost:8080/"
        },
        "id": "FJCu4lMePraX",
        "outputId": "c3143954-93bd-4eca-86ed-ea1343142b4a"
      },
      "outputs": [
        {
          "name": "stdout",
          "output_type": "stream",
          "text": [
            "Item: Notebook\n",
            "Number of Items: 5\n",
            "Total Price: $ 19.99\n",
            "\n",
            "Item: Notebook\n",
            "Number of Items: 5\n",
            "Total Price: $19.99\n"
          ]
        }
      ],
      "source": [
        "number_of_items = 5\n",
        "price = 19.99\n",
        "item_name = \"Notebook\"\n",
        "\n",
        "print(\"Item:\", item_name)\n",
        "print(\"Number of Items:\", number_of_items)\n",
        "print(\"Total Price: $\", price)\n",
        "\n",
        "print() # this prints a blank line\n",
        "\n",
        "print(f'Item: {item_name}')\n",
        "print(f'Number of Items: {number_of_items}')\n",
        "print(f'Total Price: ${price}')"
      ]
    },
    {
      "cell_type": "code",
      "execution_count": 37,
      "id": "RR0k4rFfeNAJ",
      "metadata": {
        "colab": {
          "base_uri": "https://localhost:8080/"
        },
        "id": "RR0k4rFfeNAJ",
        "outputId": "b4e9a398-b13a-4cc0-e1e2-3ca7a6a25f78"
      },
      "outputs": [
        {
          "name": "stdout",
          "output_type": "stream",
          "text": [
            "Please enter your name: Dana\n",
            "Your name entered is: Dana\n"
          ]
        }
      ],
      "source": [
        "# TODO: your output should match below\n",
        "# Please enter your name\n",
        "# Your name entered is: ____\n",
        "user_name = input('Please enter your name: ')\n",
        "print(f'Your name entered is: {user_name}')"
      ]
    },
    {
      "cell_type": "markdown",
      "id": "8df99064",
      "metadata": {
        "id": "8df99064"
      },
      "source": [
        "\n",
        "## Working with Strings in Python\n",
        "\n",
        "Python has a set of built-in methods that you can use on strings. Let's explore some common string operations:\n"
      ]
    },
    {
      "cell_type": "code",
      "execution_count": 4,
      "id": "a7d4f508",
      "metadata": {
        "colab": {
          "base_uri": "https://localhost:8080/"
        },
        "id": "a7d4f508",
        "outputId": "13867d5b-f428-4ae0-aec3-47fbbf511a2c"
      },
      "outputs": [
        {
          "name": "stdout",
          "output_type": "stream",
          "text": [
            "HELLO, WORLD!\n",
            "hello, world!\n"
          ]
        }
      ],
      "source": [
        "# Example: String Operations\n",
        "greeting = \"Hello, World!\"\n",
        "print(greeting.upper())  # Convert to uppercase\n",
        "print(greeting.lower())  # Convert to lowercase"
      ]
    },
    {
      "cell_type": "code",
      "execution_count": null,
      "id": "nAjFck_0R8CR",
      "metadata": {
        "id": "nAjFck_0R8CR"
      },
      "outputs": [],
      "source": [
        "# challenge: can you print out a receipt?\n",
        "\n",
        "# Order ID: ___\n",
        "# Order Date: _____\n",
        "# Subtotal: $____\n",
        "# Tax: $____\n",
        "# Tips: $____\n",
        "# Total: $____"
      ]
    }
  ],
  "metadata": {
    "colab": {
      "provenance": [],
      "toc_visible": true
    },
    "kernelspec": {
      "display_name": "Python 3",
      "name": "python3"
    },
    "language_info": {
      "name": "python"
    }
  },
  "nbformat": 4,
  "nbformat_minor": 5
}
